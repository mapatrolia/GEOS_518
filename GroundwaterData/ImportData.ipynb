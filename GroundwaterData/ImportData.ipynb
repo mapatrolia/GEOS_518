{
 "cells": [
  {
   "cell_type": "code",
   "execution_count": 5,
   "metadata": {},
   "outputs": [
    {
     "name": "stdout",
     "output_type": "stream",
     "text": [
      "[[             nan              nan              nan              nan\n",
      "               nan              nan]\n",
      " [  2.01300000e+03   1.00000000e+01   1.00000000e+00   0.00000000e+00\n",
      "    1.54190000e+02   4.69971120e+01]\n",
      " [  2.01300000e+03   1.00000000e+01   1.00000000e+00   1.00000000e+00\n",
      "    1.54170000e+02   4.69910160e+01]\n",
      " ..., \n",
      " [  2.01700000e+03   9.00000000e+00   3.00000000e+01   2.10000000e+01\n",
      "    1.35360000e+02   4.12577280e+01]\n",
      " [  2.01700000e+03   9.00000000e+00   3.00000000e+01   2.20000000e+01\n",
      "    1.35360000e+02   4.12577280e+01]\n",
      " [  2.01700000e+03   9.00000000e+00   3.00000000e+01   2.30000000e+01\n",
      "    1.35340000e+02   4.12516320e+01]]\n"
     ]
    }
   ],
   "source": [
    "import numpy as np\n",
    "\n",
    "data = np.genfromtxt(\"Woodlands_Piezometer.csv\", delimiter=',')\n",
    "\n",
    "print(data)"
   ]
  },
  {
   "cell_type": "code",
   "execution_count": null,
   "metadata": {
    "collapsed": true
   },
   "outputs": [],
   "source": []
  }
 ],
 "metadata": {
  "kernelspec": {
   "display_name": "Python 3",
   "language": "python",
   "name": "python3"
  },
  "language_info": {
   "codemirror_mode": {
    "name": "ipython",
    "version": 3
   },
   "file_extension": ".py",
   "mimetype": "text/x-python",
   "name": "python",
   "nbconvert_exporter": "python",
   "pygments_lexer": "ipython3",
   "version": "3.6.1"
  }
 },
 "nbformat": 4,
 "nbformat_minor": 2
}
