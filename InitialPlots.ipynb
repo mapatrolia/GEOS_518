{
 "cells": [
  {
   "cell_type": "code",
   "execution_count": 21,
   "metadata": {},
   "outputs": [
    {
     "ename": "TypeError",
     "evalue": "'float' object is unsliceable",
     "output_type": "error",
     "traceback": [
      "\u001b[0;31m---------------------------------------------------------------------------\u001b[0m",
      "\u001b[0;31mTypeError\u001b[0m                                 Traceback (most recent call last)",
      "\u001b[0;32m<ipython-input-21-e2b56a694cb1>\u001b[0m in \u001b[0;36m<module>\u001b[0;34m()\u001b[0m\n\u001b[1;32m     28\u001b[0m \u001b[0;34m\u001b[0m\u001b[0m\n\u001b[1;32m     29\u001b[0m \u001b[0;34m\u001b[0m\u001b[0m\n\u001b[0;32m---> 30\u001b[0;31m \u001b[0mdf\u001b[0m\u001b[0;34m[\u001b[0m\u001b[0;34m'SerDates'\u001b[0m\u001b[0;34m]\u001b[0m \u001b[0;34m=\u001b[0m \u001b[0mpd\u001b[0m\u001b[0;34m.\u001b[0m\u001b[0mto_datetime\u001b[0m\u001b[0;34m(\u001b[0m\u001b[0mdf\u001b[0m\u001b[0;34m.\u001b[0m\u001b[0mY\u001b[0m\u001b[0;34m*\u001b[0m\u001b[0;36m10000\u001b[0m\u001b[0;34m+\u001b[0m\u001b[0mdf\u001b[0m\u001b[0;34m.\u001b[0m\u001b[0mM\u001b[0m\u001b[0;34m*\u001b[0m\u001b[0;36m100\u001b[0m\u001b[0;34m+\u001b[0m\u001b[0mdf\u001b[0m\u001b[0;34m.\u001b[0m\u001b[0mD\u001b[0m\u001b[0;34m+\u001b[0m\u001b[0mdf\u001b[0m\u001b[0;34m.\u001b[0m\u001b[0mH\u001b[0m\u001b[0;34m/\u001b[0m\u001b[0;36m24.0\u001b[0m\u001b[0;34m,\u001b[0m\u001b[0mformat\u001b[0m\u001b[0;34m=\u001b[0m\u001b[0;34m'%Y%m%d.%H'\u001b[0m\u001b[0;34m)\u001b[0m\u001b[0;34m\u001b[0m\u001b[0m\n\u001b[0m\u001b[1;32m     31\u001b[0m \u001b[0;34m\u001b[0m\u001b[0m\n\u001b[1;32m     32\u001b[0m \u001b[0;34m\u001b[0m\u001b[0m\n",
      "\u001b[0;32m/opt/conda/lib/python3.6/site-packages/pandas/util/decorators.py\u001b[0m in \u001b[0;36mwrapper\u001b[0;34m(*args, **kwargs)\u001b[0m\n\u001b[1;32m     89\u001b[0m                 \u001b[0;32melse\u001b[0m\u001b[0;34m:\u001b[0m\u001b[0;34m\u001b[0m\u001b[0m\n\u001b[1;32m     90\u001b[0m                     \u001b[0mkwargs\u001b[0m\u001b[0;34m[\u001b[0m\u001b[0mnew_arg_name\u001b[0m\u001b[0;34m]\u001b[0m \u001b[0;34m=\u001b[0m \u001b[0mnew_arg_value\u001b[0m\u001b[0;34m\u001b[0m\u001b[0m\n\u001b[0;32m---> 91\u001b[0;31m             \u001b[0;32mreturn\u001b[0m \u001b[0mfunc\u001b[0m\u001b[0;34m(\u001b[0m\u001b[0;34m*\u001b[0m\u001b[0margs\u001b[0m\u001b[0;34m,\u001b[0m \u001b[0;34m**\u001b[0m\u001b[0mkwargs\u001b[0m\u001b[0;34m)\u001b[0m\u001b[0;34m\u001b[0m\u001b[0m\n\u001b[0m\u001b[1;32m     92\u001b[0m         \u001b[0;32mreturn\u001b[0m \u001b[0mwrapper\u001b[0m\u001b[0;34m\u001b[0m\u001b[0m\n\u001b[1;32m     93\u001b[0m     \u001b[0;32mreturn\u001b[0m \u001b[0m_deprecate_kwarg\u001b[0m\u001b[0;34m\u001b[0m\u001b[0m\n",
      "\u001b[0;32m/opt/conda/lib/python3.6/site-packages/pandas/tseries/tools.py\u001b[0m in \u001b[0;36mto_datetime\u001b[0;34m(arg, errors, dayfirst, yearfirst, utc, box, format, exact, coerce, unit, infer_datetime_format)\u001b[0m\n\u001b[1;32m    419\u001b[0m     \u001b[0;32melif\u001b[0m \u001b[0misinstance\u001b[0m\u001b[0;34m(\u001b[0m\u001b[0marg\u001b[0m\u001b[0;34m,\u001b[0m \u001b[0mABCSeries\u001b[0m\u001b[0;34m)\u001b[0m\u001b[0;34m:\u001b[0m\u001b[0;34m\u001b[0m\u001b[0m\n\u001b[1;32m    420\u001b[0m         \u001b[0;32mfrom\u001b[0m \u001b[0mpandas\u001b[0m \u001b[0;32mimport\u001b[0m \u001b[0mSeries\u001b[0m\u001b[0;34m\u001b[0m\u001b[0m\n\u001b[0;32m--> 421\u001b[0;31m         \u001b[0mvalues\u001b[0m \u001b[0;34m=\u001b[0m \u001b[0m_convert_listlike\u001b[0m\u001b[0;34m(\u001b[0m\u001b[0marg\u001b[0m\u001b[0;34m.\u001b[0m\u001b[0m_values\u001b[0m\u001b[0;34m,\u001b[0m \u001b[0;32mFalse\u001b[0m\u001b[0;34m,\u001b[0m \u001b[0mformat\u001b[0m\u001b[0;34m)\u001b[0m\u001b[0;34m\u001b[0m\u001b[0m\n\u001b[0m\u001b[1;32m    422\u001b[0m         \u001b[0;32mreturn\u001b[0m \u001b[0mSeries\u001b[0m\u001b[0;34m(\u001b[0m\u001b[0mvalues\u001b[0m\u001b[0;34m,\u001b[0m \u001b[0mindex\u001b[0m\u001b[0;34m=\u001b[0m\u001b[0marg\u001b[0m\u001b[0;34m.\u001b[0m\u001b[0mindex\u001b[0m\u001b[0;34m,\u001b[0m \u001b[0mname\u001b[0m\u001b[0;34m=\u001b[0m\u001b[0marg\u001b[0m\u001b[0;34m.\u001b[0m\u001b[0mname\u001b[0m\u001b[0;34m)\u001b[0m\u001b[0;34m\u001b[0m\u001b[0m\n\u001b[1;32m    423\u001b[0m     \u001b[0;32melif\u001b[0m \u001b[0misinstance\u001b[0m\u001b[0;34m(\u001b[0m\u001b[0marg\u001b[0m\u001b[0;34m,\u001b[0m \u001b[0;34m(\u001b[0m\u001b[0mABCDataFrame\u001b[0m\u001b[0;34m,\u001b[0m \u001b[0mMutableMapping\u001b[0m\u001b[0;34m)\u001b[0m\u001b[0;34m)\u001b[0m\u001b[0;34m:\u001b[0m\u001b[0;34m\u001b[0m\u001b[0m\n",
      "\u001b[0;32m/opt/conda/lib/python3.6/site-packages/pandas/tseries/tools.py\u001b[0m in \u001b[0;36m_convert_listlike\u001b[0;34m(arg, box, format, name, tz)\u001b[0m\n\u001b[1;32m    378\u001b[0m                     \u001b[0;32mtry\u001b[0m\u001b[0;34m:\u001b[0m\u001b[0;34m\u001b[0m\u001b[0m\n\u001b[1;32m    379\u001b[0m                         result = tslib.array_strptime(arg, format, exact=exact,\n\u001b[0;32m--> 380\u001b[0;31m                                                       errors=errors)\n\u001b[0m\u001b[1;32m    381\u001b[0m                     \u001b[0;32mexcept\u001b[0m \u001b[0mtslib\u001b[0m\u001b[0;34m.\u001b[0m\u001b[0mOutOfBoundsDatetime\u001b[0m\u001b[0;34m:\u001b[0m\u001b[0;34m\u001b[0m\u001b[0m\n\u001b[1;32m    382\u001b[0m                         \u001b[0;32mif\u001b[0m \u001b[0merrors\u001b[0m \u001b[0;34m==\u001b[0m \u001b[0;34m'raise'\u001b[0m\u001b[0;34m:\u001b[0m\u001b[0;34m\u001b[0m\u001b[0m\n",
      "\u001b[0;32mpandas/tslib.pyx\u001b[0m in \u001b[0;36mpandas.tslib.array_strptime (pandas/tslib.c:62930)\u001b[0;34m()\u001b[0m\n",
      "\u001b[0;31mTypeError\u001b[0m: 'float' object is unsliceable"
     ]
    }
   ],
   "source": [
    "#GEOS 518 Notebook 1: Reading in Time Series Data\n",
    "#By: Matthew Patrolia\n",
    "#January 29, 2018\n",
    "#In this Jupyter Notebook, I show how to use Pandas to read in a dataset, assign defined labels to the data columns, compute a serial date and plot the historical discharge in the Henry's Fork River from Water Year 2001 to Water Year 2015.\n",
    "\n",
    "#I then extract a time series that goes from the second day of the record to the end (I call it $Q_t$) and another record that goes from the first day to one day prior to the end of the record (I call it $Q_{t-1}$) and save each into a Numpy array. I then plot these two time series against one another looking for the strength of correlation between the time series at a lag of 1-day (the so-called lag 1 autocorrelation).\n",
    "\n",
    "#1. Load the libraries needed and import the data\n",
    "\n",
    "import pandas as pd # Required for data management\n",
    "import numpy as np # Required for some computations\n",
    "import matplotlib.pyplot as plt # Required for plotting\n",
    "\n",
    "# We will use Pandas - a powerful library built precisey for analyses \n",
    "# like this - to read the data in the CSV file into a 'dataframe' the \n",
    "# fundamental unit of working with Pandas. In this instance I use the 'read_csv'\n",
    "# function to create a dataframe, defining column names for myself and telling \n",
    "# pandas to skip the header row. I could  have left the 'names' and 'skiprows'\n",
    "# options and Pandas would have defined the names based on the header row.\n",
    "df = pd.read_csv('Woodlands_Piezometer.csv', names=['Y','M','D', 'H','DTW_ft', 'DTW_m'], skiprows=1)\n",
    "\n",
    "# Now, here's what the first 20 records of dataframe looks like\n",
    "qrows = np.concatenate([np.arange(0,10,1),np.arange(-11,-1,1)])\n",
    "df.iloc[qrows,:]\n",
    "\n",
    "#2. Compute serial dates\n",
    "#Now I'm going to use Pandas 'to_datetime' function to turn my columns of years, months, and days to a serial date. This will be helpful when I plot the data so it will plot unambiguously as a time.\n",
    "\n",
    "\n",
    "df['SerDates'] = pd.to_datetime(df.Y*10000+df.M*100+df.D+df.H/24.0,format='%Y%m%d.%H')\n",
    "\n",
    "\n",
    "# Here's what the first and last 10 records of the modified dataframe looks like\n",
    "df.iloc[qrows,:]\n",
    "\n",
    "#Once you've loaded in the data to a Pandas dataframe, it's always a good practice (particularly the first time) to plot it (or otherwise do some sort of quality control) to ensure that there aren't missing data, no data values that pandas doesn't know how to interpret (-9999 is a very common one that most utilities see as a valid number), or otherwise any weirdness in your data.\n",
    "\n",
    "\n",
    "# Use the pandas plotting function, specifying 'SerDates' (the serial datas) on the x axis and 'Q' (discharge)\n",
    "# on the y axis. I'm also using the 'figsize' option to increase the size of the plotted image\n",
    "df.plot(x='SerDates', y='DTW_m',figsize=(14,10))\n",
    "plt.show()\n",
    "\n",
    "#<matplotlib.axes._subplots.AxesSubplot at 0x10486b390>\n",
    "\n",
    "#4. Get two time series that are lagged by one $\\Delta t$, and plot them against each other\n",
    "\n",
    "# Use the pandas .values operator to load the values of discharge (the 'Q' column)\n",
    "# from the pandas dataframe into a numpy array\n",
    "DTW = df['DTW_m'].values \n",
    "\n",
    "# Use numpy array indexing to get discharge from October 2, 2000 to September 30, 2015. \n",
    "# The 'end' of a numpy array can be indexed using -1: as if the index in the negative direction\n",
    "# wraps back around to the end of the record\n",
    "DTWt   = DTW[1:-1] \n",
    "\n",
    "# Similarly get discharge from October 1, 2000 to September 29, 2015 by getting data from the \n",
    "# beginning of the record to the 'end' minus 1 using the -2 as the index. \n",
    "DTWtm1 = DTW[0:-2]\n",
    "\n",
    "# Use Matplotlib to create a scatter plot of these two time series, create a title and label axes\n",
    "plt.figure(figsize=(14,10))\n",
    "plt.plot(DTWtm1,DTWt,'o')\n",
    "plt.title('How correlated is this hour\\'s DTW with previous hour\\'s?')\n",
    "plt.xlabel('$DTW_{t-1}$ m')\n",
    "plt.ylabel('$DTW_t$ m')\n",
    "plt.show()\n",
    "\n",
    "#5. Save the dataframe as a pandas \"pickle\" file¶\n",
    "\n",
    "df.to_pickle('WoodlandsDTW_WY2013-2017.pkl')"
   ]
  },
  {
   "cell_type": "code",
   "execution_count": null,
   "metadata": {
    "collapsed": true
   },
   "outputs": [],
   "source": []
  }
 ],
 "metadata": {
  "kernelspec": {
   "display_name": "Python 3",
   "language": "python",
   "name": "python3"
  },
  "language_info": {
   "codemirror_mode": {
    "name": "ipython",
    "version": 3
   },
   "file_extension": ".py",
   "mimetype": "text/x-python",
   "name": "python",
   "nbconvert_exporter": "python",
   "pygments_lexer": "ipython3",
   "version": "3.6.1"
  }
 },
 "nbformat": 4,
 "nbformat_minor": 2
}
